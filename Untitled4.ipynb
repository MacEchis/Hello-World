{
  "nbformat": 4,
  "nbformat_minor": 0,
  "metadata": {
    "colab": {
      "name": "Untitled4.ipynb",
      "version": "0.3.2",
      "provenance": [],
      "include_colab_link": true
    },
    "kernelspec": {
      "name": "python3",
      "display_name": "Python 3"
    }
  },
  "cells": [
    {
      "cell_type": "markdown",
      "metadata": {
        "id": "view-in-github",
        "colab_type": "text"
      },
      "source": [
        "<a href=\"https://colab.research.google.com/github/MacEchis/Hello-World/blob/master/Untitled4.ipynb\" target=\"_parent\"><img src=\"https://colab.research.google.com/assets/colab-badge.svg\" alt=\"Open In Colab\"/></a>"
      ]
    },
    {
      "cell_type": "code",
      "metadata": {
        "id": "m-KKWHmTTI99",
        "colab_type": "code",
        "colab": {
          "base_uri": "https://localhost:8080/",
          "height": 50
        },
        "outputId": "2c7fded1-2a49-4eb5-d219-aa8622426d7d"
      },
      "source": [
        "a = int(input())\n",
        "print(a > 0)"
      ],
      "execution_count": 1,
      "outputs": [
        {
          "output_type": "stream",
          "text": [
            "3\n",
            "True\n"
          ],
          "name": "stdout"
        }
      ]
    },
    {
      "cell_type": "code",
      "metadata": {
        "id": "iQ5NW9gzTJbo",
        "colab_type": "code",
        "colab": {
          "base_uri": "https://localhost:8080/",
          "height": 50
        },
        "outputId": "b113be6d-37b1-4af4-ba4b-7fedc40061a8"
      },
      "source": [
        "a = int(input())\n",
        "print(a > 0)"
      ],
      "execution_count": 2,
      "outputs": [
        {
          "output_type": "stream",
          "text": [
            "-1\n",
            "False\n"
          ],
          "name": "stdout"
        }
      ]
    },
    {
      "cell_type": "code",
      "metadata": {
        "id": "7ZAPy8IkTM-q",
        "colab_type": "code",
        "colab": {
          "base_uri": "https://localhost:8080/",
          "height": 34
        },
        "outputId": "d6e0fbe7-f06a-4668-a4e1-a46f41f309dd"
      },
      "source": [
        "x = 5\n",
        "y = 10\n",
        "y > x * x or y >= 2 * x and x < y"
      ],
      "execution_count": 3,
      "outputs": [
        {
          "output_type": "execute_result",
          "data": {
            "text/plain": [
              "True"
            ]
          },
          "metadata": {
            "tags": []
          },
          "execution_count": 3
        }
      ]
    },
    {
      "cell_type": "code",
      "metadata": {
        "id": "7UnAKAFQVGXS",
        "colab_type": "code",
        "colab": {
          "base_uri": "https://localhost:8080/",
          "height": 34
        },
        "outputId": "7b842fd3-fd02-458a-c4ed-4701ade38dd3"
      },
      "source": [
        "a = True\n",
        "b = False\n",
        "a and b or not a and not b"
      ],
      "execution_count": 4,
      "outputs": [
        {
          "output_type": "execute_result",
          "data": {
            "text/plain": [
              "False"
            ]
          },
          "metadata": {
            "tags": []
          },
          "execution_count": 4
        }
      ]
    },
    {
      "cell_type": "code",
      "metadata": {
        "id": "iMbZlPV9VfkC",
        "colab_type": "code",
        "colab": {
          "base_uri": "https://localhost:8080/",
          "height": 67
        },
        "outputId": "8d30f16d-72cf-43e4-ca77-11c56d5333cc"
      },
      "source": [
        "a=int(input())\n",
        "b=int(input())\n",
        "if b!=0:\n",
        "  print(a/b)\n",
        "else:\n",
        "  print('Деление на ноль запрещено')"
      ],
      "execution_count": 5,
      "outputs": [
        {
          "output_type": "stream",
          "text": [
            "6\n",
            "0\n",
            "Деление на ноль запрещено\n"
          ],
          "name": "stdout"
        }
      ]
    },
    {
      "cell_type": "code",
      "metadata": {
        "id": "qaGldGZJdOZ5",
        "colab_type": "code",
        "colab": {
          "base_uri": "https://localhost:8080/",
          "height": 101
        },
        "outputId": "8e199f4a-3735-42ba-c1f9-5952b812c3a0"
      },
      "source": [
        "a=int(input())\n",
        "b=int(input())\n",
        "if b!=0:\n",
        "  print(a/b)\n",
        "else:\n",
        "  print('Деление на ноль запрещено')\n",
        "  b=int(input('Введите ненулевое значение'))\n",
        "  if b==0:\n",
        "    print('Вы не справились')\n",
        "  else:\n",
        "    print(a/b)"
      ],
      "execution_count": 12,
      "outputs": [
        {
          "output_type": "stream",
          "text": [
            "6\n",
            "0\n",
            "Деление на ноль запрещено\n",
            "Введите ненулевое значение4\n",
            "1.5\n"
          ],
          "name": "stdout"
        }
      ]
    },
    {
      "cell_type": "code",
      "metadata": {
        "id": "lqdl5zpydzdt",
        "colab_type": "code",
        "colab": {}
      },
      "source": [
        "A=int(input())\n",
        "B=int(input())\n",
        "H=int(input())\n",
        "if H<A:\n",
        "  print ('Недосып')\n",
        "elif H>B:\n",
        "  print ('Пересып')\n",
        "else:\n",
        "  print ('Это нормально')"
      ],
      "execution_count": 0,
      "outputs": []
    }
  ]
}